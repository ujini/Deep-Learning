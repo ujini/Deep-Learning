{
 "cells": [
  {
   "cell_type": "markdown",
   "metadata": {},
   "source": [
    "# 파이토치로 구현하는 신경망\n",
    "\n",
    "## 신경망 모델 구현하기"
   ]
  },
  {
   "cell_type": "code",
   "execution_count": 1,
   "metadata": {},
   "outputs": [],
   "source": [
    "import torch\n",
    "import numpy\n",
    "from sklearn.datasets import make_blobs\n",
    "import matplotlib.pyplot as plt\n",
    "import torch.nn.functional as F"
   ]
  },
  {
   "cell_type": "code",
   "execution_count": 17,
   "metadata": {},
   "outputs": [],
   "source": [
    "n_dim = 2\n",
    "x_train, y_train = make_blobs(n_samples=80, n_features=n_dim, centers=[[1,1],[-1,-1],[1,-1],[-1,1]], shuffle=True, cluster_std=0.3)\n",
    "x_test, y_test = make_blobs(n_samples=20, n_features=n_dim, centers=[[1,1],[-1,-1],[1,-1],[-1,1]], shuffle=True, cluster_std=0.3)"
   ]
  },
  {
   "cell_type": "code",
   "execution_count": 7,
   "metadata": {},
   "outputs": [
    {
     "name": "stdout",
     "output_type": "stream",
     "text": [
      "xtrain :  [[-1.1282036  -1.12905997]\n",
      " [ 1.27159196 -1.10643929]\n",
      " [-1.23629061  0.76912794]\n",
      " [ 1.06792706  1.4345356 ]\n",
      " [-1.13587718 -0.92016644]\n",
      " [-1.13244746  0.84942908]\n",
      " [ 0.8391046   1.01964804]\n",
      " [ 1.26627532  0.8475707 ]\n",
      " [-1.41609698 -0.47960655]\n",
      " [ 1.18899896 -0.76956188]\n",
      " [-1.24116024  1.07219918]\n",
      " [ 0.86079437 -1.14495808]\n",
      " [-0.80142253  1.06864541]\n",
      " [-0.44804846 -0.78668581]\n",
      " [-1.18836328  0.56826256]\n",
      " [-1.41887572  1.20687799]\n",
      " [-0.62240113  1.09388837]\n",
      " [-1.28224766 -1.57109661]\n",
      " [ 0.9673284   1.15634335]\n",
      " [-0.53857453  0.90318542]\n",
      " [ 0.45537734 -0.74542989]\n",
      " [-1.24829892 -0.96512391]\n",
      " [-0.65829251  0.73534507]\n",
      " [ 1.34225188 -1.20260461]\n",
      " [-0.88364739  0.89853269]\n",
      " [-0.81399816 -0.56825452]\n",
      " [-0.90436453  1.30264712]\n",
      " [ 0.97292049  1.13074483]\n",
      " [ 0.55707077 -0.3480704 ]\n",
      " [ 1.26551914  0.75237072]\n",
      " [-0.69356578  0.84574235]\n",
      " [-1.13402252  0.99923354]\n",
      " [ 1.12388713 -1.03415536]\n",
      " [-0.86017397  1.43583737]\n",
      " [-1.27324206  1.21104525]\n",
      " [ 0.7541469  -0.88552917]\n",
      " [ 1.5652002  -1.15145691]\n",
      " [ 0.30082668 -1.54674188]\n",
      " [ 1.30452083  0.84079017]\n",
      " [-1.52351931 -0.86922895]\n",
      " [ 0.81572883  1.06183715]\n",
      " [-0.79902271 -1.32064131]\n",
      " [-1.16330278  1.10718031]\n",
      " [-0.79230174 -1.11342156]\n",
      " [-0.71419561 -0.26840607]\n",
      " [ 0.81215681  1.25715657]\n",
      " [ 1.2113902   0.99305206]\n",
      " [-0.8031203  -0.95622618]\n",
      " [ 1.66633662 -0.92958223]\n",
      " [ 1.39809883 -0.76733353]\n",
      " [ 0.96695062 -0.95865616]\n",
      " [-0.50560349 -1.48812408]\n",
      " [ 1.41192265  1.25120077]\n",
      " [-1.48615907  0.93823115]\n",
      " [ 1.40717579 -1.51631322]\n",
      " [-1.00822319 -1.21871309]\n",
      " [ 1.23725061 -1.21815678]\n",
      " [-0.71481601 -0.63438365]\n",
      " [ 1.3482346   1.46221426]\n",
      " [ 1.34039122 -1.14789724]\n",
      " [-0.93782593 -1.50435601]\n",
      " [ 1.26235855  1.02066154]\n",
      " [ 1.43235439 -0.68665702]\n",
      " [-1.09457243  0.88218375]\n",
      " [-1.51099327 -0.79652876]\n",
      " [-1.44887296 -1.07509968]\n",
      " [ 1.18157747  1.43078817]\n",
      " [ 0.34003439  0.82665826]\n",
      " [ 1.03886558  1.27160265]\n",
      " [-1.25902457  1.00316805]\n",
      " [ 1.28542849  0.9704619 ]\n",
      " [ 0.90568773  1.12919678]\n",
      " [ 0.45612098 -1.09691713]\n",
      " [ 0.70142314  0.69701119]\n",
      " [-1.11473518 -0.68276142]\n",
      " [ 0.74089154 -0.70815423]\n",
      " [ 0.81945667 -1.28410174]\n",
      " [ 1.08781932  1.62960196]\n",
      " [-0.60014365 -1.65031287]\n",
      " [-0.65249092  0.95045006]] y_train: [1 2 3 0 1 3 0 0 1 2 3 2 3 1 3 3 3 1 0 3 2 1 3 2 3 1 3 0 2 0 3 3 2 3 3 2 2\n",
      " 2 0 1 0 1 3 1 1 0 0 1 2 2 2 1 0 3 2 1 2 1 0 2 1 0 2 3 1 1 0 0 0 3 0 0 2 0\n",
      " 1 2 2 0 1 3] [[ 0.53871263 -0.73256466]\n",
      " [-1.3350165   0.73912464]\n",
      " [-0.73418535  1.16374724]\n",
      " [-0.47652858  1.14807811]\n",
      " [ 1.30004253 -1.00367445]\n",
      " [-0.44998564  1.04192638]\n",
      " [ 0.52375913 -1.0485572 ]\n",
      " [-0.71209721 -1.31662401]\n",
      " [ 0.97807696  0.91967952]\n",
      " [-1.29987405 -0.6105898 ]\n",
      " [-0.91385811  1.11773469]\n",
      " [ 1.0359956  -0.97791464]\n",
      " [ 1.58538698  0.68835164]\n",
      " [ 0.92128549  0.9279971 ]\n",
      " [ 0.45405835 -1.32988381]\n",
      " [ 0.81487816  0.74066069]\n",
      " [-1.05242921 -0.6876967 ]\n",
      " [-1.16788588 -1.00761324]\n",
      " [-1.08612753 -0.89765449]\n",
      " [ 1.13310497  1.37421279]] [2 3 3 3 2 3 2 1 0 1 3 2 0 0 2 0 1 1 1 0]\n"
     ]
    }
   ],
   "source": [
    "print(\"xtrain : \" ,x_train, \"y_train:\" ,y_train, x_test, y_test)"
   ]
  },
  {
   "cell_type": "code",
   "execution_count": 18,
   "metadata": {},
   "outputs": [],
   "source": [
    "#### label 변경 : 0,1,2,3 -> 0,1\n",
    "\n",
    "def label_map(y_, from_, to_):\n",
    "    y = numpy.copy(y_)\n",
    "    for f in from_:\n",
    "        y[y_ == f] = to_\n",
    "    return y\n",
    "\n",
    "y_train = label_map(y_train, [0, 1], 0)\n",
    "y_train = label_map(y_train, [2, 3], 1)\n",
    "y_test = label_map(y_test, [0, 1], 0)\n",
    "y_test = label_map(y_test, [2, 3], 1)"
   ]
  },
  {
   "cell_type": "code",
   "execution_count": 9,
   "metadata": {},
   "outputs": [
    {
     "data": {
      "image/png": "[encoded data removed]",
      "text/plain": [
       "<Figure size 432x288 with 1 Axes>"
      ]
     },
     "metadata": {
      "needs_background": "light"
     },
     "output_type": "display_data"
    }
   ],
   "source": [
    "def vis_data(x,y = None, c = 'r'):\n",
    "    if y is None:\n",
    "        y = [None] * len(x)\n",
    "    for x_, y_ in zip(x,y):\n",
    "        if y_ is None:\n",
    "            plt.plot(x_[0], x_[1], '*',markerfacecolor='none', markeredgecolor=c)\n",
    "        else:\n",
    "            plt.plot(x_[0], x_[1], c+'o' if y_ == 0 else c+'+')\n",
    "\n",
    "plt.figure()\n",
    "vis_data(x_train, y_train, c='r')\n",
    "plt.show()"
   ]
  },
  {
   "cell_type": "code",
   "execution_count": 11,
   "metadata": {},
   "outputs": [
    {
     "name": "stdout",
     "output_type": "stream",
     "text": [
      "[None, None, None, None, None, None, None, None, None, None, None, None, None, None, None, None, None, None, None, None, None, None, None, None, None, None, None, None, None, None, None, None, None, None, None, None, None, None, None, None, None, None, None, None, None, None, None, None, None, None, None, None, None, None, None, None, None, None, None, None, None, None, None, None, None, None, None, None, None, None, None, None, None, None, None, None, None, None, None, None]\n"
     ]
    }
   ],
   "source": [
    "y_train = [None] * len(x_train)\n",
    "print(y_train)"
   ]
  },
  {
   "cell_type": "code",
   "execution_count": 19,
   "metadata": {},
   "outputs": [
    {
     "name": "stdout",
     "output_type": "stream",
     "text": [
      "[0 1 0 1 1 1 1 0 1 0 1 0 0 0 1 0 1 0 1 0 1 0 0 1 0 0 1 0 0 0 1 0 1 0 1 0 1\n",
      " 0 0 0 1 1 0 1 1 0 0 1 1 1 1 1 1 1 0 0 1 0 0 0 1 0 0 0 0 0 0 1 1 1 0 0 1 1\n",
      " 1 1 1 0 1 1]\n"
     ]
    }
   ],
   "source": [
    "print(y_train)"
   ]
  },
  {
   "cell_type": "code",
   "execution_count": 13,
   "metadata": {},
   "outputs": [
    {
     "name": "stdout",
     "output_type": "stream",
     "text": [
      "[-1.1282036  -1.12905997] [ 1.27159196 -1.10643929]\n"
     ]
    }
   ],
   "source": [
    "print(x_train[0], x_train[1])"
   ]
  },
  {
   "cell_type": "code",
   "execution_count": 21,
   "metadata": {},
   "outputs": [
    {
     "name": "stdout",
     "output_type": "stream",
     "text": [
      "torch.Size([80, 2])\n",
      "torch.Size([20])\n"
     ]
    }
   ],
   "source": [
    "x_train = torch.FloatTensor(x_train)\n",
    "print(x_train.shape)\n",
    "x_test = torch.FloatTensor(x_test)\n",
    "y_train = torch.FloatTensor(y_train)\n",
    "y_test = torch.FloatTensor(y_test)\n",
    "print(y_test.shape)"
   ]
  },
  {
   "cell_type": "code",
   "execution_count": 22,
   "metadata": {},
   "outputs": [],
   "source": [
    "### class 만들기\n",
    "\n",
    "class NeuralNet(torch.nn.Module):\n",
    "        def __init__(self, input_size, hidden_size):\n",
    "            super(NeuralNet, self).__init__()\n",
    "            \n",
    "            self.input_size = input_size\n",
    "            self.hidden_size  = hidden_size\n",
    "            \n",
    "            #layer 만들기\n",
    "            self.linear_1 = torch.nn.Linear(self.input_size, self.hidden_size)\n",
    "            self.relu = torch.nn.ReLU()\n",
    "            self.linear_2 = torch.nn.Linear(self.hidden_size, 1)\n",
    "            self.sigmoid = torch.nn.Sigmoid()\n",
    "            \n",
    "        def forward(self, input_tensor):\n",
    "            linear1 = self.linear_1(input_tensor)\n",
    "            relu = self.relu(linear1)\n",
    "            linear2 = self.linear_2(relu)\n",
    "            output = self.sigmoid(linear2)\n",
    "\n",
    "            return output"
   ]
  },
  {
   "cell_type": "code",
   "execution_count": 23,
   "metadata": {},
   "outputs": [],
   "source": [
    "### 여러 변수와 알고리즘 정의\n",
    "model = NeuralNet(2, 5)\n",
    "learning_rate = 0.03\n",
    "\n",
    "# 오차함수 : 이진 교차 엔트로피를 뜻하는 BCELoss()함수사용\n",
    "criterion = torch.nn.BCELoss()\n",
    "\n",
    "# epochs : 전체 학습 데이터를 총 몇번 모델에 입력할지 결정하는 변수 \n",
    "epochs = 2000\n",
    "\n",
    "# 최적화 알고리즘은 SGD 알고리즘 사용\n",
    "optimizer = torch.optim.SGD(model.parameters(), lr = learning_rate)"
   ]
  },
  {
   "cell_type": "code",
   "execution_count": 25,
   "metadata": {},
   "outputs": [
    {
     "name": "stdout",
     "output_type": "stream",
     "text": [
      "torch.Size([20, 2])\n",
      "tensor(0.7358, grad_fn=<BinaryCrossEntropyBackward>)\n",
      "Before Training, test loss is 0.7358085513114929\n"
     ]
    }
   ],
   "source": [
    "model.eval()\n",
    "\n",
    "# 모델의 결과값과 차원을 맞추기 위해 squeeze 사용 \n",
    "print(x_test.size())\n",
    "test_loss_before = criterion(model(x_test).squeeze(), y_test)\n",
    "\n",
    "print(test_loss_before)\n",
    "# item()을 통해서 텐서 속의 숫자를 스칼라 값으로 변환 \n",
    "print('Before Training, test loss is {}'.format(test_loss_before.item()))"
   ]
  },
  {
   "cell_type": "markdown",
   "metadata": {},
   "source": [
    "오차값이 0.73 이 나왔습니다. 이정도의 오차를 가진 모델은 사실상 분류하는 능력이 없다고 봐도 무방합니다.\n",
    "자, 이제 드디어 인공신경망을 학습시켜 퍼포먼스를 향상시켜 보겠습니다."
   ]
  },
  {
   "cell_type": "code",
   "execution_count": 26,
   "metadata": {
    "scrolled": true
   },
   "outputs": [
    {
     "name": "stdout",
     "output_type": "stream",
     "text": [
      "Train loss at 0 is 0.7257314920425415\n",
      "Train loss at 100 is 0.6455718278884888\n",
      "Train loss at 200 is 0.5546695590019226\n",
      "Train loss at 300 is 0.449535071849823\n",
      "Train loss at 400 is 0.35240715742111206\n",
      "Train loss at 500 is 0.27760016918182373\n",
      "Train loss at 600 is 0.22359152138233185\n",
      "Train loss at 700 is 0.18489111959934235\n",
      "Train loss at 800 is 0.15636052191257477\n",
      "Train loss at 900 is 0.1354599893093109\n",
      "Train loss at 1000 is 0.11957643181085587\n",
      "Train loss at 1100 is 0.10725884139537811\n",
      "Train loss at 1200 is 0.09720584750175476\n",
      "Train loss at 1300 is 0.08880214393138885\n",
      "Train loss at 1400 is 0.08170019090175629\n",
      "Train loss at 1500 is 0.07570655643939972\n",
      "Train loss at 1600 is 0.0706423670053482\n",
      "Train loss at 1700 is 0.06622600555419922\n",
      "Train loss at 1800 is 0.06230591982603073\n",
      "Train loss at 1900 is 0.05880316346883774\n"
     ]
    }
   ],
   "source": [
    "for epoch in range(epochs):\n",
    "    model.train()\n",
    "    optimizer.zero_grad()\n",
    "    \n",
    "    train_output = model(x_train)\n",
    "    train_loss = criterion(train_output.squeeze(), y_train)\n",
    "    \n",
    "    if epoch % 100 == 0:\n",
    "        print('Train loss at {} is {}'.format(epoch, train_loss.item()))\n",
    "        \n",
    "    # 역전파를 행하는 코드 !!!!     \n",
    "    train_loss.backward()\n",
    "    optimizer.step()"
   ]
  },
  {
   "cell_type": "code",
   "execution_count": 27,
   "metadata": {},
   "outputs": [
    {
     "name": "stdout",
     "output_type": "stream",
     "text": [
      "After Training, test loss is 0.06366060674190521\n"
     ]
    }
   ],
   "source": [
    "model.eval()\n",
    "\n",
    "test_loss = criterion(model(x_test).squeeze(), y_test) \n",
    "print('After Training, test loss is {}'.format(test_loss.item()))"
   ]
  },
  {
   "cell_type": "markdown",
   "metadata": {},
   "source": [
    "학습을 하기 전과 비교했을때 현저하게 줄어든 오차값을 확인 하실 수 있습니다.\n",
    "지금까지 인공신경망을 구현하고 학습시켜 보았습니다.\n",
    "이제 학습된 모델을 .pt 파일로 저장해 보겠습니다."
   ]
  },
  {
   "cell_type": "code",
   "execution_count": 29,
   "metadata": {},
   "outputs": [
    {
     "name": "stdout",
     "output_type": "stream",
     "text": [
      "state_dict format of the model: OrderedDict([('linear_1.weight', tensor([[ 1.2862, -0.8929],\n",
      "        [-0.9229,  1.2907],\n",
      "        [ 1.0903,  0.9541],\n",
      "        [ 1.5725, -1.1282],\n",
      "        [-1.0763,  1.5073]])), ('linear_1.bias', tensor([-0.3823, -0.2875, -0.0545, -0.5096, -0.3336])), ('linear_2.weight', tensor([[ 1.4593,  1.5568, -1.4051,  1.6979,  1.8580]])), ('linear_2.bias', tensor([-2.3962]))])\n"
     ]
    }
   ],
   "source": [
    "### state_dict () : 모델 내 가중치들이 딕셔너리 형태로 연산이름 : 가중치 텐서와 편향 텐서 저장\n",
    "\n",
    "torch.save(model.state_dict(), './model.pt')\n",
    "print('state_dict format of the model: {}'.format(model.state_dict()))"
   ]
  },
  {
   "cell_type": "code",
   "execution_count": 30,
   "metadata": {},
   "outputs": [
    {
     "name": "stdout",
     "output_type": "stream",
     "text": [
      "OrderedDict([('linear_1.weight', tensor([[ 1.2862, -0.8929],\n",
      "        [-0.9229,  1.2907],\n",
      "        [ 1.0903,  0.9541],\n",
      "        [ 1.5725, -1.1282],\n",
      "        [-1.0763,  1.5073]])), ('linear_1.bias', tensor([-0.3823, -0.2875, -0.0545, -0.5096, -0.3336])), ('linear_2.weight', tensor([[ 1.4593,  1.5568, -1.4051,  1.6979,  1.8580]])), ('linear_2.bias', tensor([-2.3962]))])\n"
     ]
    }
   ],
   "source": [
    "print(model.state_dict())"
   ]
  },
  {
   "cell_type": "markdown",
   "metadata": {},
   "source": [
    "`save()` 를 실행하고 나면 학습된 신경망의 가중치를 내포하는 model.pt 라는 파일이 생성됩니다. 아래 코드처럼 새로운 신경망 객체에 model.pt 속의 가중치값을 입력시키는 것 또한 가능합니다."
   ]
  },
  {
   "cell_type": "code",
   "execution_count": 12,
   "metadata": {},
   "outputs": [
    {
     "name": "stdout",
     "output_type": "stream",
     "text": [
      "벡터 [-1, 1]이 레이블 1을 가질 확률은 0.9912316203117371\n"
     ]
    }
   ],
   "source": [
    "new_model = NeuralNet(2, 5)\n",
    "new_model.load_state_dict(torch.load('./model.pt'))\n",
    "new_model.eval()\n",
    "print('벡터 [-1, 1]이 레이블 1을 가질 확률은 {}'.format(new_model(torch.FloatTensor([-1,1])).item()))"
   ]
  }
 ],
 "metadata": {
  "kernelspec": {
   "display_name": "Python 3",
   "language": "python",
   "name": "python3"
  },
  "language_info": {
   "codemirror_mode": {
    "name": "ipython",
    "version": 3
   },
   "file_extension": ".py",
   "mimetype": "text/x-python",
   "name": "python",
   "nbconvert_exporter": "python",
   "pygments_lexer": "ipython3",
   "version": "3.7.4"
  }
 },
 "nbformat": 4,
 "nbformat_minor": 2
}
